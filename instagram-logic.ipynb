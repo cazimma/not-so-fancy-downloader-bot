{
 "cells": [
  {
   "cell_type": "code",
   "execution_count": 39,
   "metadata": {},
   "outputs": [],
   "source": [
    "import logging\n",
    "from selenium import webdriver\n",
    "from selenium.webdriver.chrome.options import Options\n",
    "from selenium.webdriver.common.by import By\n",
    "from selenium.webdriver.common.action_chains import ActionChains\n",
    "from selenium.webdriver.support.ui import WebDriverWait\n",
    "from selenium.webdriver.support import expected_conditions as EC\n",
    "logging.basicConfig(\n",
    "    format='%(asctime)s - %(name)s - %(levelname)s - %(message)s',\n",
    "    level=logging.INFO,\n",
    "#    filename='instagram-logic.log',  # Specify the log file name here\n",
    "#    filemode='a'  # 'a' for append mode, 'w' to overwrite each time\n",
    ")\n",
    "\n",
    "# Configure Selenium options\n",
    "chrome_options = Options()\n",
    "driver = webdriver.Chrome(options=chrome_options)\n",
    "actions = ActionChains(driver)"
   ]
  },
  {
   "cell_type": "code",
   "execution_count": 40,
   "metadata": {},
   "outputs": [],
   "source": [
    "# Navigate to the ttdownloader page\n",
    "driver.get(\"https://saveinsta.app/en/instagram-reels-video-download\")"
   ]
  },
  {
   "cell_type": "code",
   "execution_count": 41,
   "metadata": {},
   "outputs": [],
   "source": [
    "# Fill in the URL directly into the field\n",
    "url_input = driver.find_element(By.ID, \"s_input\")\n",
    "url_input.send_keys(\"https://www.instagram.com/reels/C-Jn-r6sHVf/\")"
   ]
  },
  {
   "cell_type": "code",
   "execution_count": 42,
   "metadata": {},
   "outputs": [],
   "source": [
    "# Remove the cookie box consent \n",
    "WebDriverWait(driver, 10).until(EC.presence_of_element_located((By.XPATH, \"//button[@class='fc-button fc-cta-consent fc-primary-button']\")))\n",
    "consent_button = driver.find_element(By.XPATH, \"//button[@class='fc-button fc-cta-consent fc-primary-button']\")\n",
    "actions.move_to_element(consent_button).click().perform()\n"
   ]
  },
  {
   "cell_type": "code",
   "execution_count": 43,
   "metadata": {},
   "outputs": [],
   "source": [
    "# Click the 'Download' button (assuming there's a button to be clicked to start the download process)\n",
    "download_button = driver.find_element(By.XPATH, \"//button[@type='button']\")\n",
    "actions.move_to_element(download_button).click().perform()\n"
   ]
  },
  {
   "cell_type": "code",
   "execution_count": 44,
   "metadata": {},
   "outputs": [],
   "source": [
    "WebDriverWait(driver, 10).until(EC.presence_of_element_located((By.XPATH, \"//div[@class='download-items__btn']/a[@class='abutton is-success is-fullwidth btn-premium mt-3']\")))\n",
    "download_link = driver.find_element(By.XPATH, \"//div[@class='download-items__btn']/a[@class='abutton is-success is-fullwidth btn-premium mt-3']\").get_attribute(\"href\")"
   ]
  },
  {
   "cell_type": "code",
   "execution_count": 45,
   "metadata": {},
   "outputs": [
    {
     "name": "stdout",
     "output_type": "stream",
     "text": [
      "https://download.i-6-cdn.xyz/ig/1723048047/40d3316ee8df3eab7ab404f732487350e077117420e6fa92dedce66b66cada79?file=aHR0cHM6Ly9zY29udGVudC5jZG5pbnN0YWdyYW0uY29tL28xL3YvdDE2L2YxL204Ni9BMjQzNTJBOUExNDk4RkVBRjE2QkMwMTNENTM0MERBM192aWRlb19kYXNoaW5pdC5tcDQ_ZWZnPWV5SnhaVjluY205MWNITWlPaUpiWENKcFoxOTNaV0pmWkdWc2FYWmxjbmxmZG5SelgyOTBabHdpWFNJc0luWmxibU52WkdWZmRHRm5Jam9pZG5SelgzWnZaRjkxY214blpXNHVZMnhwY0hNdVl6SXVOekl3TG1KaGMyVnNhVzVsSW4wJl9uY19odD1zY29udGVudC1ucnQxLTEuY2RuaW5zdGFncmFtLmNvbSZfbmNfY2F0PTEwMCZ2cz00Njc3MDMyNjI3MDIwMTVfMTYwMjQxMTAxMSZfbmNfdnM9SEJrc0ZRSVlVbWxuWDNod2RsOXlaV1ZzYzE5d1pYSnRZVzVsYm5SZmMzSmZjSEp2WkM5Qk1qUXpOVEpCT1VFeE5EazRSa1ZCUmpFMlFrTXdNVE5FTlRNME1FUkJNMTkyYVdSbGIxOWtZWE5vYVc1cGRDNXRjRFFWQUFMSUFRQVZBaGc2Y0dGemMzUm9jbTkxWjJoZlpYWmxjbk4wYjNKbEwwZExSMGRFYUhZNGRYbHZjREowYzBKQlRFazJOWEEyU3pKMk1VRmljVjlGUVVGQlJoVUNBc2dCQUNnQUdBQWJBQlVBQUNiZ2g2UGo4T2FDUUJVQ0tBSkRNeXdYUUNsbVptWm1abVlZRW1SaGMyaGZZbUZ6Wld4cGJtVmZNVjkyTVJFQWRmNEhBQSUzRCUzRCZjY2I9OS00Jm9oPTAwX0FZQk9QOWwzUmFLU3dVTk5ZMk9FeDFrYVJQbjMtOWM2SXhTaXo4aTdZT2F0Mmcmb2U9NjZCNTc3RUQmX25jX3NpZD0yOTk5YjgmbmFtZT1TYXZlSW5zdGEuQXBwKy0rMzQyNTQ0NDgyMzE2OTAwNDg5NS5tcDQ\n"
     ]
    }
   ],
   "source": [
    "print(download_link)\n",
    "driver.quit()"
   ]
  },
  {
   "cell_type": "code",
   "execution_count": null,
   "metadata": {},
   "outputs": [],
   "source": []
  }
 ],
 "metadata": {
  "kernelspec": {
   "display_name": "Python 3",
   "language": "python",
   "name": "python3"
  },
  "language_info": {
   "codemirror_mode": {
    "name": "ipython",
    "version": 3
   },
   "file_extension": ".py",
   "mimetype": "text/x-python",
   "name": "python",
   "nbconvert_exporter": "python",
   "pygments_lexer": "ipython3",
   "version": "3.8.10"
  }
 },
 "nbformat": 4,
 "nbformat_minor": 2
}
