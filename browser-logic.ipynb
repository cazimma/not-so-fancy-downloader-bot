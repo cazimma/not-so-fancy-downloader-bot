{
 "cells": [
  {
   "cell_type": "code",
   "execution_count": 86,
   "metadata": {},
   "outputs": [],
   "source": [
    "import logging\n",
    "from selenium import webdriver\n",
    "from selenium.webdriver.chrome.options import Options\n",
    "from selenium.webdriver.common.by import By\n",
    "from selenium.webdriver.common.action_chains import ActionChains\n",
    "from selenium.webdriver.support.ui import WebDriverWait\n",
    "from selenium.webdriver.support import expected_conditions as EC\n",
    "logging.basicConfig(\n",
    "    format='%(asctime)s - %(name)s - %(levelname)s - %(message)s',\n",
    "    level=logging.INFO,\n",
    "    filename='browser-logic.log',  # Specify the log file name here\n",
    "    filemode='a'  # 'a' for append mode, 'w' to overwrite each time\n",
    ")"
   ]
  },
  {
   "cell_type": "code",
   "execution_count": 87,
   "metadata": {},
   "outputs": [],
   "source": [
    "def close_ad_window(main_window: str, driver: webdriver.Chrome):\n",
    "    # If a new window is opened, it is closed\n",
    "    current_window = driver.current_window_handle\n",
    "    if current_window != main_window:\n",
    "        logging.info(\"AD window closed.\")\n",
    "        driver.close()"
   ]
  },
  {
   "cell_type": "code",
   "execution_count": 88,
   "metadata": {},
   "outputs": [],
   "source": [
    "# Configure Selenium options\n",
    "chrome_options = Options()\n",
    "driver = webdriver.Chrome(options=chrome_options)"
   ]
  },
  {
   "cell_type": "code",
   "execution_count": 89,
   "metadata": {},
   "outputs": [],
   "source": [
    "# Navigate to the ttdownloader page\n",
    "driver.get(\"https://ttdownloader.com/\")"
   ]
  },
  {
   "cell_type": "code",
   "execution_count": 90,
   "metadata": {},
   "outputs": [],
   "source": [
    "main_window = driver.current_window_handle\n"
   ]
  },
  {
   "cell_type": "code",
   "execution_count": 91,
   "metadata": {},
   "outputs": [],
   "source": [
    "# Fill in the URL directly into the field\n",
    "url_input = driver.find_element(By.ID, \"url\")\n",
    "url_input.send_keys('https://vm.tiktok.com/ZGensJVg1/')"
   ]
  },
  {
   "cell_type": "code",
   "execution_count": 92,
   "metadata": {},
   "outputs": [],
   "source": [
    "# Click the 'Get video' button (assuming there's a button to be clicked to start the download process)\n",
    "submit_button = driver.find_element(By.XPATH, \"//button[@id='submit']\")\n",
    "actions = ActionChains(driver)\n",
    "actions.move_to_element(submit_button).click().perform()\n"
   ]
  },
  {
   "cell_type": "code",
   "execution_count": 93,
   "metadata": {},
   "outputs": [],
   "source": [
    "close_ad_window(main_window, driver)"
   ]
  },
  {
   "cell_type": "code",
   "execution_count": 94,
   "metadata": {},
   "outputs": [
    {
     "name": "stdout",
     "output_type": "stream",
     "text": [
      "E9C22058AF4424528A1D38EBA26D7F25\n",
      "E9C22058AF4424528A1D38EBA26D7F25\n"
     ]
    }
   ],
   "source": [
    "print(main_window) \n",
    "print(driver.current_window_handle)"
   ]
  },
  {
   "cell_type": "code",
   "execution_count": 95,
   "metadata": {},
   "outputs": [
    {
     "data": {
      "text/plain": [
       "2"
      ]
     },
     "execution_count": 95,
     "metadata": {},
     "output_type": "execute_result"
    }
   ],
   "source": [
    "len(driver.window_handles)"
   ]
  },
  {
   "cell_type": "code",
   "execution_count": 96,
   "metadata": {},
   "outputs": [
    {
     "data": {
      "text/plain": [
       "['E9C22058AF4424528A1D38EBA26D7F25', '7423F1D58251A0C0C4863DA01C8AE5E0']"
      ]
     },
     "execution_count": 96,
     "metadata": {},
     "output_type": "execute_result"
    }
   ],
   "source": [
    "driver.window_handles\n"
   ]
  },
  {
   "cell_type": "code",
   "execution_count": 97,
   "metadata": {},
   "outputs": [],
   "source": [
    "actions.move_to_element(submit_button).click().perform()\n"
   ]
  },
  {
   "cell_type": "code",
   "execution_count": 98,
   "metadata": {},
   "outputs": [],
   "source": [
    "actions.move_to_element(submit_button).click().perform()\n"
   ]
  },
  {
   "cell_type": "code",
   "execution_count": 99,
   "metadata": {},
   "outputs": [],
   "source": [
    "WebDriverWait(driver, 10).until(EC.presence_of_element_located((By.CLASS_NAME, \"download-link\")))\n",
    "download_container = driver.find_element(By.CLASS_NAME, \"download\")\n",
    "download_button = download_container.find_element(By.CLASS_NAME, \"download-link\")\n",
    "#actions.move_to_element(download_button).click().perform()"
   ]
  },
  {
   "cell_type": "code",
   "execution_count": 100,
   "metadata": {},
   "outputs": [],
   "source": [
    "download_link = download_container.find_element(By.CLASS_NAME, \"download-link\").get_attribute(\"href\")\n"
   ]
  },
  {
   "cell_type": "code",
   "execution_count": 101,
   "metadata": {},
   "outputs": [
    {
     "name": "stdout",
     "output_type": "stream",
     "text": [
      "https://ttdownloader.com/dl.php?v=YTo0OntzOjk6IndhdGVybWFyayI7YjowO3M6NzoidmlkZW9JZCI7czozMjoiOGNiZDUwNGE3NTYwZDRiYjQ1YzA1MTYzYjhkMDRmMTkiO3M6MzoidWlkIjtzOjMyOiJhOTM1ZGI3MjVjNTIwODJkYWFjNDYwYmRhMmI3M2YzMiI7czo0OiJ0aW1lIjtpOjE3MjMwMjc3NzY7fQ==\n"
     ]
    }
   ],
   "source": [
    "print(download_link)\n",
    "driver.quit()"
   ]
  },
  {
   "cell_type": "code",
   "execution_count": null,
   "metadata": {},
   "outputs": [],
   "source": []
  }
 ],
 "metadata": {
  "kernelspec": {
   "display_name": "Python 3",
   "language": "python",
   "name": "python3"
  },
  "language_info": {
   "codemirror_mode": {
    "name": "ipython",
    "version": 3
   },
   "file_extension": ".py",
   "mimetype": "text/x-python",
   "name": "python",
   "nbconvert_exporter": "python",
   "pygments_lexer": "ipython3",
   "version": "3.8.10"
  }
 },
 "nbformat": 4,
 "nbformat_minor": 2
}
